{
 "cells": [
  {
   "cell_type": "code",
   "execution_count": 22,
   "id": "613bfed5",
   "metadata": {},
   "outputs": [],
   "source": [
    "import tensorflow as tf\n",
    "import tensorflow_hub as hub\n",
    "import numpy as np\n",
    "import librosa\n",
    "import matplotlib.pyplot as plt\n",
    "import pandas as pd"
   ]
  },
  {
   "cell_type": "code",
   "execution_count": 25,
   "id": "7dc2e6b2",
   "metadata": {},
   "outputs": [],
   "source": [
    "def predict_yamnet(audio_file):\n",
    "    # Load the YAMNet model\n",
    "    model = hub.load('https://tfhub.dev/google/yamnet/1')\n",
    "\n",
    "    # Load the audio file\n",
    "    audio, sr = librosa.load(audio_file, sr=16000)\n",
    "\n",
    "    # Make predictions\n",
    "    scores, embeddings, spectrogram = model(audio)\n",
    "\n",
    "    class_map_path = tf.keras.utils.get_file(\n",
    "        'yamnet_class_map.csv',\n",
    "        'https://raw.githubusercontent.com/tensorflow/models/master/research/audioset/yamnet/yamnet_class_map.csv'\n",
    "    )\n",
    "\n",
    "    class_names = pd.read_csv(class_map_path)['display_name'].to_list()\n",
    "\n",
    "    mean_scores = tf.reduce_mean(scores, axis=0)\n",
    "    top_class = tf.argmax(mean_scores)\n",
    "    print(\"Tahmin edilen sınıf:\", class_names[top_class])\n",
    "\n",
    "    # İsteğe bağlı: tüm skorları göster\n",
    "    top5 = tf.argsort(mean_scores, direction='DESCENDING')[:5]\n",
    "    print(\"\\nİlk 5 sınıf tahmini:\")\n",
    "    for i in top5:\n",
    "        print(f\"{class_names[i]} - Skor: {mean_scores[i].numpy():.4f}\")\n",
    "    # Get the top 5 predictions\n"
   ]
  },
  {
   "cell_type": "code",
   "execution_count": 27,
   "id": "d7587a60",
   "metadata": {},
   "outputs": [
    {
     "name": "stdout",
     "output_type": "stream",
     "text": [
      "Tahmin edilen sınıf: Dog\n",
      "\n",
      "İlk 5 sınıf tahmini:\n",
      "Dog - Skor: 0.4423\n",
      "Domestic animals, pets - Skor: 0.4405\n",
      "Animal - Skor: 0.4247\n",
      "Silence - Skor: 0.3507\n",
      "Bark - Skor: 0.2746\n"
     ]
    }
   ],
   "source": [
    "audio_file = 'data/dog-barking.wav'\n",
    "predict_yamnet(audio_file)"
   ]
  }
 ],
 "metadata": {
  "kernelspec": {
   "display_name": ".venv",
   "language": "python",
   "name": "python3"
  },
  "language_info": {
   "codemirror_mode": {
    "name": "ipython",
    "version": 3
   },
   "file_extension": ".py",
   "mimetype": "text/x-python",
   "name": "python",
   "nbconvert_exporter": "python",
   "pygments_lexer": "ipython3",
   "version": "3.12.3"
  }
 },
 "nbformat": 4,
 "nbformat_minor": 5
}
