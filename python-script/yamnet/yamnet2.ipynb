{
 "cells": [
  {
   "cell_type": "code",
   "execution_count": 1,
   "id": "d7dfc000",
   "metadata": {},
   "outputs": [
    {
     "name": "stdout",
     "output_type": "stream",
     "text": [
      "WARNING:tensorflow:From f:\\code\\My GitHub\\voice_based_ai_models\\.venv\\Lib\\site-packages\\tf_keras\\src\\losses.py:2976: The name tf.losses.sparse_softmax_cross_entropy is deprecated. Please use tf.compat.v1.losses.sparse_softmax_cross_entropy instead.\n",
      "\n"
     ]
    }
   ],
   "source": [
    "import tensorflow as tf\n",
    "from tensorflow.keras import layers, models, Model\n",
    "import tensorflow_hub as hub\n",
    "import numpy as np\n",
    "import librosa\n",
    "import os\n"
   ]
  },
  {
   "cell_type": "code",
   "execution_count": 2,
   "id": "5a7decd3",
   "metadata": {},
   "outputs": [],
   "source": [
    "import sys\n",
    "sys.path.append(r'F:\\code\\My GitHub\\voice_based_ai_models\\Models\\research\\audioset\\yamnet')\n"
   ]
  },
  {
   "cell_type": "code",
   "execution_count": 3,
   "id": "75824cae",
   "metadata": {},
   "outputs": [],
   "source": [
    "import yamnet\n",
    "import params\n",
    "import special_params"
   ]
  },
  {
   "cell_type": "code",
   "execution_count": 33,
   "id": "a539e7b8",
   "metadata": {},
   "outputs": [],
   "source": [
    "\n",
    "params = special_params.Params()\n",
    "params.num_classes = 521\n",
    "yamnet_model = yamnet.yamnet_frames_model(params)\n"
   ]
  },
  {
   "cell_type": "code",
   "execution_count": 8,
   "id": "1fc0d4ab",
   "metadata": {},
   "outputs": [
    {
     "name": "stdout",
     "output_type": "stream",
     "text": [
      "Model: \"yamnet_frames\"\n",
      "__________________________________________________________________________________________________\n",
      " Layer (type)                Output Shape                 Param #   Connected to                  \n",
      "==================================================================================================\n",
      " input_2 (InputLayer)        [(None,)]                    0         []                            \n",
      "                                                                                                  \n",
      " tf.compat.v1.shape_1 (TFOp  (1,)                         0         ['input_2[0][0]']             \n",
      " Lambda)                                                                                          \n",
      "                                                                                                  \n",
      " tf.__operators__.getitem_1  ()                           0         ['tf.compat.v1.shape_1[0][0]']\n",
      "  (SlicingOpLambda)                                                                               \n",
      "                                                                                                  \n",
      " tf.math.maximum_3 (TFOpLam  ()                           0         ['tf.__operators__.getitem_1[0\n",
      " bda)                                                               ][0]']                        \n",
      "                                                                                                  \n",
      " tf.math.subtract_4 (TFOpLa  ()                           0         ['tf.math.maximum_3[0][0]']   \n",
      " mbda)                                                                                            \n",
      "                                                                                                  \n",
      " tf.cast_2 (TFOpLambda)      ()                           0         ['tf.math.subtract_4[0][0]']  \n",
      "                                                                                                  \n",
      " tf.math.truediv_1 (TFOpLam  ()                           0         ['tf.cast_2[0][0]']           \n",
      " bda)                                                                                             \n",
      "                                                                                                  \n",
      " tf.math.ceil_1 (TFOpLambda  ()                           0         ['tf.math.truediv_1[0][0]']   \n",
      " )                                                                                                \n",
      "                                                                                                  \n",
      " tf.cast_3 (TFOpLambda)      ()                           0         ['tf.math.ceil_1[0][0]']      \n",
      "                                                                                                  \n",
      " tf.math.subtract_3 (TFOpLa  ()                           0         ['tf.__operators__.getitem_1[0\n",
      " mbda)                                                              ][0]']                        \n",
      "                                                                                                  \n",
      " tf.math.multiply_1 (TFOpLa  ()                           0         ['tf.cast_3[0][0]']           \n",
      " mbda)                                                                                            \n",
      "                                                                                                  \n",
      " tf.math.maximum_2 (TFOpLam  ()                           0         ['tf.math.subtract_3[0][0]']  \n",
      " bda)                                                                                             \n",
      "                                                                                                  \n",
      " tf.math.subtract_5 (TFOpLa  ()                           0         ['tf.math.multiply_1[0][0]',  \n",
      " mbda)                                                               'tf.math.subtract_4[0][0]']  \n",
      "                                                                                                  \n",
      " tf.__operators__.add_2 (TF  ()                           0         ['tf.math.maximum_2[0][0]',   \n",
      " OpLambda)                                                           'tf.math.subtract_5[0][0]']  \n",
      "                                                                                                  \n",
      " tf.compat.v1.pad_1 (TFOpLa  (None,)                      0         ['input_2[0][0]',             \n",
      " mbda)                                                               'tf.__operators__.add_2[0][0]\n",
      "                                                                    ']                            \n",
      "                                                                                                  \n",
      " tf.signal.stft_1 (TFOpLamb  (None, 257)                  0         ['tf.compat.v1.pad_1[0][0]']  \n",
      " da)                                                                                              \n",
      "                                                                                                  \n",
      " tf.math.abs_1 (TFOpLambda)  (None, 257)                  0         ['tf.signal.stft_1[0][0]']    \n",
      "                                                                                                  \n",
      " tf.linalg.matmul_1 (TFOpLa  (None, 64)                   0         ['tf.math.abs_1[0][0]']       \n",
      " mbda)                                                                                            \n",
      "                                                                                                  \n",
      " tf.__operators__.add_3 (TF  (None, 64)                   0         ['tf.linalg.matmul_1[0][0]']  \n",
      " OpLambda)                                                                                        \n",
      "                                                                                                  \n",
      " tf.math.log_1 (TFOpLambda)  (None, 64)                   0         ['tf.__operators__.add_3[0][0]\n",
      "                                                                    ']                            \n",
      "                                                                                                  \n",
      " tf.signal.frame_1 (TFOpLam  (None, 96, 64)               0         ['tf.math.log_1[0][0]']       \n",
      " bda)                                                                                             \n",
      "                                                                                                  \n",
      " reshape_1 (Reshape)         (None, 96, 64, 1)            0         ['tf.signal.frame_1[0][0]']   \n",
      "                                                                                                  \n",
      " layer1/conv (Conv2D)        (None, 48, 32, 32)           288       ['reshape_1[0][0]']           \n",
      "                                                                                                  \n",
      " layer1/conv/bn (BatchNorma  (None, 48, 32, 32)           96        ['layer1/conv[0][0]']         \n",
      " lization)                                                                                        \n",
      "                                                                                                  \n",
      " layer1/relu (ReLU)          (None, 48, 32, 32)           0         ['layer1/conv/bn[0][0]']      \n",
      "                                                                                                  \n",
      " layer2/depthwise_conv (Dep  (None, 48, 32, 32)           288       ['layer1/relu[0][0]']         \n",
      " thwiseConv2D)                                                                                    \n",
      "                                                                                                  \n",
      " layer2/depthwise_conv/bn (  (None, 48, 32, 32)           96        ['layer2/depthwise_conv[0][0]'\n",
      " BatchNormalization)                                                ]                             \n",
      "                                                                                                  \n",
      " layer2/depthwise_conv/relu  (None, 48, 32, 32)           0         ['layer2/depthwise_conv/bn[0][\n",
      "  (ReLU)                                                            0]']                          \n",
      "                                                                                                  \n",
      " layer2/pointwise_conv (Con  (None, 48, 32, 64)           2048      ['layer2/depthwise_conv/relu[0\n",
      " v2D)                                                               ][0]']                        \n",
      "                                                                                                  \n",
      " layer2/pointwise_conv/bn (  (None, 48, 32, 64)           192       ['layer2/pointwise_conv[0][0]'\n",
      " BatchNormalization)                                                ]                             \n",
      "                                                                                                  \n",
      " layer2/pointwise_conv/relu  (None, 48, 32, 64)           0         ['layer2/pointwise_conv/bn[0][\n",
      "  (ReLU)                                                            0]']                          \n",
      "                                                                                                  \n",
      " layer3/depthwise_conv (Dep  (None, 24, 16, 64)           576       ['layer2/pointwise_conv/relu[0\n",
      " thwiseConv2D)                                                      ][0]']                        \n",
      "                                                                                                  \n",
      " layer3/depthwise_conv/bn (  (None, 24, 16, 64)           192       ['layer3/depthwise_conv[0][0]'\n",
      " BatchNormalization)                                                ]                             \n",
      "                                                                                                  \n",
      " layer3/depthwise_conv/relu  (None, 24, 16, 64)           0         ['layer3/depthwise_conv/bn[0][\n",
      "  (ReLU)                                                            0]']                          \n",
      "                                                                                                  \n",
      " layer3/pointwise_conv (Con  (None, 24, 16, 128)          8192      ['layer3/depthwise_conv/relu[0\n",
      " v2D)                                                               ][0]']                        \n",
      "                                                                                                  \n",
      " layer3/pointwise_conv/bn (  (None, 24, 16, 128)          384       ['layer3/pointwise_conv[0][0]'\n",
      " BatchNormalization)                                                ]                             \n",
      "                                                                                                  \n",
      " layer3/pointwise_conv/relu  (None, 24, 16, 128)          0         ['layer3/pointwise_conv/bn[0][\n",
      "  (ReLU)                                                            0]']                          \n",
      "                                                                                                  \n",
      " layer4/depthwise_conv (Dep  (None, 24, 16, 128)          1152      ['layer3/pointwise_conv/relu[0\n",
      " thwiseConv2D)                                                      ][0]']                        \n",
      "                                                                                                  \n",
      " layer4/depthwise_conv/bn (  (None, 24, 16, 128)          384       ['layer4/depthwise_conv[0][0]'\n",
      " BatchNormalization)                                                ]                             \n",
      "                                                                                                  \n",
      " layer4/depthwise_conv/relu  (None, 24, 16, 128)          0         ['layer4/depthwise_conv/bn[0][\n",
      "  (ReLU)                                                            0]']                          \n",
      "                                                                                                  \n",
      " layer4/pointwise_conv (Con  (None, 24, 16, 128)          16384     ['layer4/depthwise_conv/relu[0\n",
      " v2D)                                                               ][0]']                        \n",
      "                                                                                                  \n",
      " layer4/pointwise_conv/bn (  (None, 24, 16, 128)          384       ['layer4/pointwise_conv[0][0]'\n",
      " BatchNormalization)                                                ]                             \n",
      "                                                                                                  \n",
      " layer4/pointwise_conv/relu  (None, 24, 16, 128)          0         ['layer4/pointwise_conv/bn[0][\n",
      "  (ReLU)                                                            0]']                          \n",
      "                                                                                                  \n",
      " layer5/depthwise_conv (Dep  (None, 12, 8, 128)           1152      ['layer4/pointwise_conv/relu[0\n",
      " thwiseConv2D)                                                      ][0]']                        \n",
      "                                                                                                  \n",
      " layer5/depthwise_conv/bn (  (None, 12, 8, 128)           384       ['layer5/depthwise_conv[0][0]'\n",
      " BatchNormalization)                                                ]                             \n",
      "                                                                                                  \n",
      " layer5/depthwise_conv/relu  (None, 12, 8, 128)           0         ['layer5/depthwise_conv/bn[0][\n",
      "  (ReLU)                                                            0]']                          \n",
      "                                                                                                  \n",
      " layer5/pointwise_conv (Con  (None, 12, 8, 256)           32768     ['layer5/depthwise_conv/relu[0\n",
      " v2D)                                                               ][0]']                        \n",
      "                                                                                                  \n",
      " layer5/pointwise_conv/bn (  (None, 12, 8, 256)           768       ['layer5/pointwise_conv[0][0]'\n",
      " BatchNormalization)                                                ]                             \n",
      "                                                                                                  \n",
      " layer5/pointwise_conv/relu  (None, 12, 8, 256)           0         ['layer5/pointwise_conv/bn[0][\n",
      "  (ReLU)                                                            0]']                          \n",
      "                                                                                                  \n",
      " layer6/depthwise_conv (Dep  (None, 12, 8, 256)           2304      ['layer5/pointwise_conv/relu[0\n",
      " thwiseConv2D)                                                      ][0]']                        \n",
      "                                                                                                  \n",
      " layer6/depthwise_conv/bn (  (None, 12, 8, 256)           768       ['layer6/depthwise_conv[0][0]'\n",
      " BatchNormalization)                                                ]                             \n",
      "                                                                                                  \n",
      " layer6/depthwise_conv/relu  (None, 12, 8, 256)           0         ['layer6/depthwise_conv/bn[0][\n",
      "  (ReLU)                                                            0]']                          \n",
      "                                                                                                  \n",
      " layer6/pointwise_conv (Con  (None, 12, 8, 256)           65536     ['layer6/depthwise_conv/relu[0\n",
      " v2D)                                                               ][0]']                        \n",
      "                                                                                                  \n",
      " layer6/pointwise_conv/bn (  (None, 12, 8, 256)           768       ['layer6/pointwise_conv[0][0]'\n",
      " BatchNormalization)                                                ]                             \n",
      "                                                                                                  \n",
      " layer6/pointwise_conv/relu  (None, 12, 8, 256)           0         ['layer6/pointwise_conv/bn[0][\n",
      "  (ReLU)                                                            0]']                          \n",
      "                                                                                                  \n",
      " layer7/depthwise_conv (Dep  (None, 6, 4, 256)            2304      ['layer6/pointwise_conv/relu[0\n",
      " thwiseConv2D)                                                      ][0]']                        \n",
      "                                                                                                  \n",
      " layer7/depthwise_conv/bn (  (None, 6, 4, 256)            768       ['layer7/depthwise_conv[0][0]'\n",
      " BatchNormalization)                                                ]                             \n",
      "                                                                                                  \n",
      " layer7/depthwise_conv/relu  (None, 6, 4, 256)            0         ['layer7/depthwise_conv/bn[0][\n",
      "  (ReLU)                                                            0]']                          \n",
      "                                                                                                  \n",
      " layer7/pointwise_conv (Con  (None, 6, 4, 512)            131072    ['layer7/depthwise_conv/relu[0\n",
      " v2D)                                                               ][0]']                        \n",
      "                                                                                                  \n",
      " layer7/pointwise_conv/bn (  (None, 6, 4, 512)            1536      ['layer7/pointwise_conv[0][0]'\n",
      " BatchNormalization)                                                ]                             \n",
      "                                                                                                  \n",
      " layer7/pointwise_conv/relu  (None, 6, 4, 512)            0         ['layer7/pointwise_conv/bn[0][\n",
      "  (ReLU)                                                            0]']                          \n",
      "                                                                                                  \n",
      " layer8/depthwise_conv (Dep  (None, 6, 4, 512)            4608      ['layer7/pointwise_conv/relu[0\n",
      " thwiseConv2D)                                                      ][0]']                        \n",
      "                                                                                                  \n",
      " layer8/depthwise_conv/bn (  (None, 6, 4, 512)            1536      ['layer8/depthwise_conv[0][0]'\n",
      " BatchNormalization)                                                ]                             \n",
      "                                                                                                  \n",
      " layer8/depthwise_conv/relu  (None, 6, 4, 512)            0         ['layer8/depthwise_conv/bn[0][\n",
      "  (ReLU)                                                            0]']                          \n",
      "                                                                                                  \n",
      " layer8/pointwise_conv (Con  (None, 6, 4, 512)            262144    ['layer8/depthwise_conv/relu[0\n",
      " v2D)                                                               ][0]']                        \n",
      "                                                                                                  \n",
      " layer8/pointwise_conv/bn (  (None, 6, 4, 512)            1536      ['layer8/pointwise_conv[0][0]'\n",
      " BatchNormalization)                                                ]                             \n",
      "                                                                                                  \n",
      " layer8/pointwise_conv/relu  (None, 6, 4, 512)            0         ['layer8/pointwise_conv/bn[0][\n",
      "  (ReLU)                                                            0]']                          \n",
      "                                                                                                  \n",
      " layer9/depthwise_conv (Dep  (None, 6, 4, 512)            4608      ['layer8/pointwise_conv/relu[0\n",
      " thwiseConv2D)                                                      ][0]']                        \n",
      "                                                                                                  \n",
      " layer9/depthwise_conv/bn (  (None, 6, 4, 512)            1536      ['layer9/depthwise_conv[0][0]'\n",
      " BatchNormalization)                                                ]                             \n",
      "                                                                                                  \n",
      " layer9/depthwise_conv/relu  (None, 6, 4, 512)            0         ['layer9/depthwise_conv/bn[0][\n",
      "  (ReLU)                                                            0]']                          \n",
      "                                                                                                  \n",
      " layer9/pointwise_conv (Con  (None, 6, 4, 512)            262144    ['layer9/depthwise_conv/relu[0\n",
      " v2D)                                                               ][0]']                        \n",
      "                                                                                                  \n",
      " layer9/pointwise_conv/bn (  (None, 6, 4, 512)            1536      ['layer9/pointwise_conv[0][0]'\n",
      " BatchNormalization)                                                ]                             \n",
      "                                                                                                  \n",
      " layer9/pointwise_conv/relu  (None, 6, 4, 512)            0         ['layer9/pointwise_conv/bn[0][\n",
      "  (ReLU)                                                            0]']                          \n",
      "                                                                                                  \n",
      " layer10/depthwise_conv (De  (None, 6, 4, 512)            4608      ['layer9/pointwise_conv/relu[0\n",
      " pthwiseConv2D)                                                     ][0]']                        \n",
      "                                                                                                  \n",
      " layer10/depthwise_conv/bn   (None, 6, 4, 512)            1536      ['layer10/depthwise_conv[0][0]\n",
      " (BatchNormalization)                                               ']                            \n",
      "                                                                                                  \n",
      " layer10/depthwise_conv/rel  (None, 6, 4, 512)            0         ['layer10/depthwise_conv/bn[0]\n",
      " u (ReLU)                                                           [0]']                         \n",
      "                                                                                                  \n",
      " layer10/pointwise_conv (Co  (None, 6, 4, 512)            262144    ['layer10/depthwise_conv/relu[\n",
      " nv2D)                                                              0][0]']                       \n",
      "                                                                                                  \n",
      " layer10/pointwise_conv/bn   (None, 6, 4, 512)            1536      ['layer10/pointwise_conv[0][0]\n",
      " (BatchNormalization)                                               ']                            \n",
      "                                                                                                  \n",
      " layer10/pointwise_conv/rel  (None, 6, 4, 512)            0         ['layer10/pointwise_conv/bn[0]\n",
      " u (ReLU)                                                           [0]']                         \n",
      "                                                                                                  \n",
      " layer11/depthwise_conv (De  (None, 6, 4, 512)            4608      ['layer10/pointwise_conv/relu[\n",
      " pthwiseConv2D)                                                     0][0]']                       \n",
      "                                                                                                  \n",
      " layer11/depthwise_conv/bn   (None, 6, 4, 512)            1536      ['layer11/depthwise_conv[0][0]\n",
      " (BatchNormalization)                                               ']                            \n",
      "                                                                                                  \n",
      " layer11/depthwise_conv/rel  (None, 6, 4, 512)            0         ['layer11/depthwise_conv/bn[0]\n",
      " u (ReLU)                                                           [0]']                         \n",
      "                                                                                                  \n",
      " layer11/pointwise_conv (Co  (None, 6, 4, 512)            262144    ['layer11/depthwise_conv/relu[\n",
      " nv2D)                                                              0][0]']                       \n",
      "                                                                                                  \n",
      " layer11/pointwise_conv/bn   (None, 6, 4, 512)            1536      ['layer11/pointwise_conv[0][0]\n",
      " (BatchNormalization)                                               ']                            \n",
      "                                                                                                  \n",
      " layer11/pointwise_conv/rel  (None, 6, 4, 512)            0         ['layer11/pointwise_conv/bn[0]\n",
      " u (ReLU)                                                           [0]']                         \n",
      "                                                                                                  \n",
      " layer12/depthwise_conv (De  (None, 6, 4, 512)            4608      ['layer11/pointwise_conv/relu[\n",
      " pthwiseConv2D)                                                     0][0]']                       \n",
      "                                                                                                  \n",
      " layer12/depthwise_conv/bn   (None, 6, 4, 512)            1536      ['layer12/depthwise_conv[0][0]\n",
      " (BatchNormalization)                                               ']                            \n",
      "                                                                                                  \n",
      " layer12/depthwise_conv/rel  (None, 6, 4, 512)            0         ['layer12/depthwise_conv/bn[0]\n",
      " u (ReLU)                                                           [0]']                         \n",
      "                                                                                                  \n",
      " layer12/pointwise_conv (Co  (None, 6, 4, 512)            262144    ['layer12/depthwise_conv/relu[\n",
      " nv2D)                                                              0][0]']                       \n",
      "                                                                                                  \n",
      " layer12/pointwise_conv/bn   (None, 6, 4, 512)            1536      ['layer12/pointwise_conv[0][0]\n",
      " (BatchNormalization)                                               ']                            \n",
      "                                                                                                  \n",
      " layer12/pointwise_conv/rel  (None, 6, 4, 512)            0         ['layer12/pointwise_conv/bn[0]\n",
      " u (ReLU)                                                           [0]']                         \n",
      "                                                                                                  \n",
      " layer13/depthwise_conv (De  (None, 3, 2, 512)            4608      ['layer12/pointwise_conv/relu[\n",
      " pthwiseConv2D)                                                     0][0]']                       \n",
      "                                                                                                  \n",
      " layer13/depthwise_conv/bn   (None, 3, 2, 512)            1536      ['layer13/depthwise_conv[0][0]\n",
      " (BatchNormalization)                                               ']                            \n",
      "                                                                                                  \n",
      " layer13/depthwise_conv/rel  (None, 3, 2, 512)            0         ['layer13/depthwise_conv/bn[0]\n",
      " u (ReLU)                                                           [0]']                         \n",
      "                                                                                                  \n",
      " layer13/pointwise_conv (Co  (None, 3, 2, 1024)           524288    ['layer13/depthwise_conv/relu[\n",
      " nv2D)                                                              0][0]']                       \n",
      "                                                                                                  \n",
      " layer13/pointwise_conv/bn   (None, 3, 2, 1024)           3072      ['layer13/pointwise_conv[0][0]\n",
      " (BatchNormalization)                                               ']                            \n",
      "                                                                                                  \n",
      " layer13/pointwise_conv/rel  (None, 3, 2, 1024)           0         ['layer13/pointwise_conv/bn[0]\n",
      " u (ReLU)                                                           [0]']                         \n",
      "                                                                                                  \n",
      " layer14/depthwise_conv (De  (None, 3, 2, 1024)           9216      ['layer13/pointwise_conv/relu[\n",
      " pthwiseConv2D)                                                     0][0]']                       \n",
      "                                                                                                  \n",
      " layer14/depthwise_conv/bn   (None, 3, 2, 1024)           3072      ['layer14/depthwise_conv[0][0]\n",
      " (BatchNormalization)                                               ']                            \n",
      "                                                                                                  \n",
      " layer14/depthwise_conv/rel  (None, 3, 2, 1024)           0         ['layer14/depthwise_conv/bn[0]\n",
      " u (ReLU)                                                           [0]']                         \n",
      "                                                                                                  \n",
      " layer14/pointwise_conv (Co  (None, 3, 2, 1024)           1048576   ['layer14/depthwise_conv/relu[\n",
      " nv2D)                                                              0][0]']                       \n",
      "                                                                                                  \n",
      " layer14/pointwise_conv/bn   (None, 3, 2, 1024)           3072      ['layer14/pointwise_conv[0][0]\n",
      " (BatchNormalization)                                               ']                            \n",
      "                                                                                                  \n",
      " layer14/pointwise_conv/rel  (None, 3, 2, 1024)           0         ['layer14/pointwise_conv/bn[0]\n",
      " u (ReLU)                                                           [0]']                         \n",
      "                                                                                                  \n",
      " global_average_pooling2d_1  (None, 1024)                 0         ['layer14/pointwise_conv/relu[\n",
      "  (GlobalAveragePooling2D)                                          0][0]']                       \n",
      "                                                                                                  \n",
      " dense_1 (Dense)             (None, 3)                    3075      ['global_average_pooling2d_1[0\n",
      "                                                                    ][0]']                        \n",
      "                                                                                                  \n",
      " activation_1 (Activation)   (None, 3)                    0         ['dense_1[0][0]']             \n",
      "                                                                                                  \n",
      "==================================================================================================\n",
      "Total params: 3220419 (12.28 MB)\n",
      "Trainable params: 3198531 (12.20 MB)\n",
      "Non-trainable params: 21888 (85.50 KB)\n",
      "__________________________________________________________________________________________________\n"
     ]
    }
   ],
   "source": [
    "yamnet_model.summary()\n"
   ]
  },
  {
   "cell_type": "code",
   "execution_count": 9,
   "id": "13683dee",
   "metadata": {},
   "outputs": [
    {
     "name": "stdout",
     "output_type": "stream",
     "text": [
      "Tüm katmanlar 'yamnet_layers.txt' dosyasına yazıldı.\n"
     ]
    }
   ],
   "source": [
    "# model: örneğin yamnet_model ya da feature_extractor olabilir\n",
    "\n",
    "with open(\"yamnet_layers.txt\", \"w\") as f:\n",
    "    for i, layer in enumerate(yamnet_model.layers):\n",
    "        f.write(f\"{i}: {layer.name} - {layer.__class__.__name__} - {layer.output_shape}\\n\")\n",
    "\n",
    "print(\"Tüm katmanlar 'yamnet_layers.txt' dosyasına yazıldı.\")\n"
   ]
  },
  {
   "cell_type": "code",
   "execution_count": null,
   "id": "98a821d5",
   "metadata": {},
   "outputs": [],
   "source": []
  },
  {
   "cell_type": "code",
   "execution_count": null,
   "id": "b0b19fa5",
   "metadata": {},
   "outputs": [],
   "source": []
  },
  {
   "cell_type": "code",
   "execution_count": null,
   "id": "719a4ccf",
   "metadata": {},
   "outputs": [],
   "source": []
  },
  {
   "cell_type": "code",
   "execution_count": 34,
   "id": "cfadd8e1",
   "metadata": {},
   "outputs": [],
   "source": [
    "tessst = yamnet_model(sick_audio_files[0])"
   ]
  },
  {
   "cell_type": "code",
   "execution_count": 35,
   "id": "0a0cea96",
   "metadata": {},
   "outputs": [
    {
     "data": {
      "text/plain": [
       "[<tf.Tensor: shape=(2, 521), dtype=float32, numpy=\n",
       " array([[0.5, 0.5, 0.5, ..., 0.5, 0.5, 0.5],\n",
       "        [0.5, 0.5, 0.5, ..., 0.5, 0.5, 0.5]], dtype=float32)>,\n",
       " <tf.Tensor: shape=(2, 1024), dtype=float32, numpy=\n",
       " array([[5.9133623e-20, 8.0832173e-20, 9.4315715e-21, ..., 4.5528073e-21,\n",
       "         6.8380412e-21, 6.4609543e-21],\n",
       "        [1.9076360e-19, 2.0602628e-19, 1.3075991e-20, ..., 2.0878515e-20,\n",
       "         6.2836081e-21, 1.3356273e-20]], dtype=float32)>,\n",
       " <tf.Tensor: shape=(144, 64), dtype=float32, numpy=\n",
       " array([[-1.048633 , -1.4141245, -2.4498959, ..., -1.7570944, -1.505228 ,\n",
       "         -1.4683931],\n",
       "        [-0.9135425, -1.5830814, -2.2701979, ..., -1.6798733, -1.4297811,\n",
       "         -1.7120833],\n",
       "        [-0.894205 , -1.092468 , -1.5921221, ..., -1.4066528, -1.426339 ,\n",
       "         -1.3806505],\n",
       "        ...,\n",
       "        [-6.9077554, -6.9077554, -6.9077554, ..., -6.9077554, -6.9077554,\n",
       "         -6.9077554],\n",
       "        [-6.9077554, -6.9077554, -6.9077554, ..., -6.9077554, -6.9077554,\n",
       "         -6.9077554],\n",
       "        [-6.9077554, -6.9077554, -6.9077554, ..., -6.9077554, -6.9077554,\n",
       "         -6.9077554]], dtype=float32)>]"
      ]
     },
     "execution_count": 35,
     "metadata": {},
     "output_type": "execute_result"
    }
   ],
   "source": [
    "tessst"
   ]
  },
  {
   "cell_type": "code",
   "execution_count": 10,
   "id": "1e654bb0",
   "metadata": {},
   "outputs": [],
   "source": [
    "def load_audio_from_directory(directory_path, num_files=None, max_len=16000):\n",
    "    audio_files = []\n",
    "    for filename in os.listdir(directory_path)[:num_files]:\n",
    "        if filename.endswith('.wav'):\n",
    "            file_path = os.path.join(directory_path, filename)\n",
    "            waveform, sr = librosa.load(file_path, sr=16000)\n",
    "\n",
    "            # Uzunluğu sabitle (padding veya truncate)\n",
    "            if len(waveform) < max_len:\n",
    "                waveform = np.pad(waveform, (0, max_len - len(waveform)), mode='constant')\n",
    "            else:\n",
    "                waveform = waveform[:max_len]\n",
    "\n",
    "            audio_files.append(waveform)\n",
    "    return audio_files\n",
    "\n",
    "\n",
    "\n",
    "\n"
   ]
  },
  {
   "cell_type": "code",
   "execution_count": null,
   "id": "ce62c13c",
   "metadata": {},
   "outputs": [],
   "source": [
    "how_many = 1000\n",
    "\n",
    "sick_audio_files = load_audio_from_directory('../../data/data/Sick', how_many)\n",
    "healthy_audio_files = load_audio_from_directory('../../data/data/Healthy', how_many)\n",
    "none_audio_files = load_audio_from_directory('../../data/data/None', how_many)"
   ]
  },
  {
   "cell_type": "code",
   "execution_count": 39,
   "id": "ec1c6fce",
   "metadata": {},
   "outputs": [
    {
     "data": {
      "image/png": "[encoded data removed]",
      "text/plain": [
       "<Figure size 1000x800 with 1 Axes>"
      ]
     },
     "metadata": {},
     "output_type": "display_data"
    }
   ],
   "source": [
    "# Extract embeddings from each class\n",
    "def get_embeddings_from_each_class(num_samples=10):\n",
    "    sick_embeddings = []\n",
    "    healthy_embeddings = []\n",
    "    none_embeddings = []\n",
    "    \n",
    "    # Process samples from each class\n",
    "    for i in range(min(num_samples, len(sick_audio_files))):\n",
    "        _, emb, _ = yamnet_model(sick_audio_files[i])\n",
    "        sick_embeddings.append(tf.reduce_mean(emb, axis=0).numpy())\n",
    "    \n",
    "    for i in range(min(num_samples, len(healthy_audio_files))):\n",
    "        _, emb, _ = yamnet_model(healthy_audio_files[i])\n",
    "        healthy_embeddings.append(tf.reduce_mean(emb, axis=0).numpy())\n",
    "    \n",
    "    for i in range(min(num_samples, len(none_audio_files))):\n",
    "        _, emb, _ = yamnet_model(none_audio_files[i])\n",
    "        none_embeddings.append(tf.reduce_mean(emb, axis=0).numpy())\n",
    "    \n",
    "    # Visualize the embeddings with PCA\n",
    "    from sklearn.decomposition import PCA\n",
    "    import matplotlib.pyplot as plt\n",
    "    \n",
    "    all_embeddings = np.vstack([sick_embeddings, healthy_embeddings, none_embeddings])\n",
    "    labels = ['Sick'] * len(sick_embeddings) + ['Healthy'] * len(healthy_embeddings) + ['None'] * len(none_embeddings)\n",
    "    \n",
    "    pca = PCA(n_components=2)\n",
    "    reduced_embeddings = pca.fit_transform(all_embeddings)\n",
    "    \n",
    "    # Plot\n",
    "    plt.figure(figsize=(10, 8))\n",
    "    for i, label in enumerate(['Sick', 'Healthy', 'None']):\n",
    "        mask = [l == label for l in labels]\n",
    "        plt.scatter(reduced_embeddings[mask, 0], reduced_embeddings[mask, 1], label=label)\n",
    "    \n",
    "    plt.legend()\n",
    "    plt.title('YAMNet Embeddings Visualization (PCA)')\n",
    "    plt.xlabel('PC1')\n",
    "    plt.ylabel('PC2')\n",
    "    plt.show()\n",
    "    \n",
    "    return sick_embeddings, healthy_embeddings, none_embeddings\n",
    "\n",
    "# Visualize the embeddings\n",
    "sick_embeddings, healthy_embeddings, none_embeddings = get_embeddings_from_each_class(num_samples=100)"
   ]
  },
  {
   "cell_type": "code",
   "execution_count": null,
   "id": "a52b4a1f",
   "metadata": {},
   "outputs": [],
   "source": []
  },
  {
   "cell_type": "code",
   "execution_count": null,
   "id": "e959a275",
   "metadata": {},
   "outputs": [],
   "source": []
  },
  {
   "cell_type": "code",
   "execution_count": null,
   "id": "fadc7185",
   "metadata": {},
   "outputs": [],
   "source": []
  },
  {
   "cell_type": "code",
   "execution_count": 12,
   "id": "703999f1",
   "metadata": {},
   "outputs": [
    {
     "name": "stdout",
     "output_type": "stream",
     "text": [
      "X shape: (300, 16000)\n",
      "y shape: (300,)\n"
     ]
    }
   ],
   "source": [
    "import numpy as np\n",
    "\n",
    "# Etiketler: Sick → 1, Healthy → 0, None → 2\n",
    "X = np.array(sick_audio_files + healthy_audio_files + none_audio_files, dtype=np.float32)\n",
    "y = np.array(\n",
    "    [1] * len(sick_audio_files) + \n",
    "    [0] * len(healthy_audio_files) + \n",
    "    [2] * len(none_audio_files), \n",
    "    dtype=np.int32\n",
    ")\n",
    "\n",
    "print(\"X shape:\", X.shape)  # (örnek_sayısı, örnek_uzunluğu)\n",
    "print(\"y shape:\", y.shape)  # (örnek_sayısı,)\n"
   ]
  },
  {
   "cell_type": "code",
   "execution_count": null,
   "id": "e366535b",
   "metadata": {},
   "outputs": [],
   "source": [
    "from sklearn.model_selection import train_test_split\n",
    "\n",
    "\n",
    "# Eğitim ve test setlerine ayırma\n",
    "X_train, X_test, y_train, y_test = train_test_split(X, y, test_size=0.2, random_state=42)\n"
   ]
  },
  {
   "cell_type": "code",
   "execution_count": 30,
   "id": "6b87001c",
   "metadata": {},
   "outputs": [
    {
     "data": {
      "text/plain": [
       "((240, 16000), (240,), (60, 16000), (60,))"
      ]
     },
     "execution_count": 30,
     "metadata": {},
     "output_type": "execute_result"
    }
   ],
   "source": [
    "X_train.shape, y_train.shape, X_test.shape, y_test.shape"
   ]
  },
  {
   "cell_type": "code",
   "execution_count": 27,
   "id": "e5b03608",
   "metadata": {},
   "outputs": [],
   "source": [
    "yamnet_model.compile(optimizer='adam',\n",
    "                  loss='sparse_categorical_crossentropy',\n",
    "                  metrics=['accuracy'])"
   ]
  },
  {
   "cell_type": "code",
   "execution_count": 20,
   "id": "d0658a8b",
   "metadata": {},
   "outputs": [
    {
     "name": "stdout",
     "output_type": "stream",
     "text": [
      "Epoch 1/10\n"
     ]
    },
    {
     "ename": "ValueError",
     "evalue": "in user code:\n\n    File \"f:\\code\\My GitHub\\voice_based_ai_models\\.venv\\Lib\\site-packages\\tf_keras\\src\\engine\\training.py\", line 1398, in train_function  *\n        return step_function(self, iterator)\n    File \"f:\\code\\My GitHub\\voice_based_ai_models\\.venv\\Lib\\site-packages\\tf_keras\\src\\engine\\training.py\", line 1381, in step_function  **\n        outputs = model.distribute_strategy.run(run_step, args=(data,))\n    File \"f:\\code\\My GitHub\\voice_based_ai_models\\.venv\\Lib\\site-packages\\tf_keras\\src\\engine\\training.py\", line 1370, in run_step  **\n        outputs = model.train_step(data)\n    File \"f:\\code\\My GitHub\\voice_based_ai_models\\.venv\\Lib\\site-packages\\tf_keras\\src\\engine\\training.py\", line 1147, in train_step\n        y_pred = self(x, training=True)\n    File \"f:\\code\\My GitHub\\voice_based_ai_models\\.venv\\Lib\\site-packages\\tf_keras\\src\\utils\\traceback_utils.py\", line 70, in error_handler\n        raise e.with_traceback(filtered_tb) from None\n\n    ValueError: Exception encountered when calling layer 'tf.compat.v1.pad_1' (type TFOpLambda).\n    \n    Shape must be rank 1 but is rank 2 for '{{node yamnet_frames/tf.compat.v1.pad_1/Pad}} = Pad[T=DT_FLOAT, Tpaddings=DT_INT32](IteratorGetNext, yamnet_frames/tf.compat.v1.pad_1/Pad/paddings)' with input shapes: [32,16000], [1,2].\n    \n    Call arguments received by layer 'tf.compat.v1.pad_1' (type TFOpLambda):\n      • tensor=tf.Tensor(shape=(32, 16000), dtype=float32)\n      • paddings=[['0', 'tf.Tensor(shape=(), dtype=int32)']]\n      • mode='CONSTANT'\n      • name=None\n      • constant_values=0.0\n",
     "output_type": "error",
     "traceback": [
      "\u001b[31m---------------------------------------------------------------------------\u001b[39m",
      "\u001b[31mValueError\u001b[39m                                Traceback (most recent call last)",
      "\u001b[36mCell\u001b[39m\u001b[36m \u001b[39m\u001b[32mIn[20]\u001b[39m\u001b[32m, line 1\u001b[39m\n\u001b[32m----> \u001b[39m\u001b[32m1\u001b[39m \u001b[43myamnet_model\u001b[49m\u001b[43m.\u001b[49m\u001b[43mfit\u001b[49m\u001b[43m(\u001b[49m\u001b[43mX_train\u001b[49m\u001b[43m,\u001b[49m\u001b[43m \u001b[49m\u001b[43my_train\u001b[49m\u001b[43m,\u001b[49m\u001b[43m \u001b[49m\u001b[43mepochs\u001b[49m\u001b[43m=\u001b[49m\u001b[32;43m10\u001b[39;49m\u001b[43m,\u001b[49m\u001b[43m \u001b[49m\u001b[43mbatch_size\u001b[49m\u001b[43m=\u001b[49m\u001b[32;43m32\u001b[39;49m\u001b[43m,\u001b[49m\u001b[43m \u001b[49m\n\u001b[32m      2\u001b[39m \u001b[43m                 \u001b[49m\u001b[43mvalidation_split\u001b[49m\u001b[43m=\u001b[49m\u001b[32;43m0.2\u001b[39;49m\u001b[43m)\u001b[49m\n",
      "\u001b[36mFile \u001b[39m\u001b[32mf:\\code\\My GitHub\\voice_based_ai_models\\.venv\\Lib\\site-packages\\tf_keras\\src\\utils\\traceback_utils.py:70\u001b[39m, in \u001b[36mfilter_traceback.<locals>.error_handler\u001b[39m\u001b[34m(*args, **kwargs)\u001b[39m\n\u001b[32m     67\u001b[39m     filtered_tb = _process_traceback_frames(e.__traceback__)\n\u001b[32m     68\u001b[39m     \u001b[38;5;66;03m# To get the full stack trace, call:\u001b[39;00m\n\u001b[32m     69\u001b[39m     \u001b[38;5;66;03m# `tf.debugging.disable_traceback_filtering()`\u001b[39;00m\n\u001b[32m---> \u001b[39m\u001b[32m70\u001b[39m     \u001b[38;5;28;01mraise\u001b[39;00m e.with_traceback(filtered_tb) \u001b[38;5;28;01mfrom\u001b[39;00m\u001b[38;5;250m \u001b[39m\u001b[38;5;28;01mNone\u001b[39;00m\n\u001b[32m     71\u001b[39m \u001b[38;5;28;01mfinally\u001b[39;00m:\n\u001b[32m     72\u001b[39m     \u001b[38;5;28;01mdel\u001b[39;00m filtered_tb\n",
      "\u001b[36mFile \u001b[39m\u001b[32m~\\AppData\\Local\\Temp\\__autograph_generated_file1o83h0y7.py:15\u001b[39m, in \u001b[36mouter_factory.<locals>.inner_factory.<locals>.tf__train_function\u001b[39m\u001b[34m(iterator)\u001b[39m\n\u001b[32m     13\u001b[39m \u001b[38;5;28;01mtry\u001b[39;00m:\n\u001b[32m     14\u001b[39m     do_return = \u001b[38;5;28;01mTrue\u001b[39;00m\n\u001b[32m---> \u001b[39m\u001b[32m15\u001b[39m     retval_ = ag__.converted_call(ag__.ld(step_function), (ag__.ld(\u001b[38;5;28mself\u001b[39m), ag__.ld(iterator)), \u001b[38;5;28;01mNone\u001b[39;00m, fscope)\n\u001b[32m     16\u001b[39m \u001b[38;5;28;01mexcept\u001b[39;00m:\n\u001b[32m     17\u001b[39m     do_return = \u001b[38;5;28;01mFalse\u001b[39;00m\n",
      "\u001b[31mValueError\u001b[39m: in user code:\n\n    File \"f:\\code\\My GitHub\\voice_based_ai_models\\.venv\\Lib\\site-packages\\tf_keras\\src\\engine\\training.py\", line 1398, in train_function  *\n        return step_function(self, iterator)\n    File \"f:\\code\\My GitHub\\voice_based_ai_models\\.venv\\Lib\\site-packages\\tf_keras\\src\\engine\\training.py\", line 1381, in step_function  **\n        outputs = model.distribute_strategy.run(run_step, args=(data,))\n    File \"f:\\code\\My GitHub\\voice_based_ai_models\\.venv\\Lib\\site-packages\\tf_keras\\src\\engine\\training.py\", line 1370, in run_step  **\n        outputs = model.train_step(data)\n    File \"f:\\code\\My GitHub\\voice_based_ai_models\\.venv\\Lib\\site-packages\\tf_keras\\src\\engine\\training.py\", line 1147, in train_step\n        y_pred = self(x, training=True)\n    File \"f:\\code\\My GitHub\\voice_based_ai_models\\.venv\\Lib\\site-packages\\tf_keras\\src\\utils\\traceback_utils.py\", line 70, in error_handler\n        raise e.with_traceback(filtered_tb) from None\n\n    ValueError: Exception encountered when calling layer 'tf.compat.v1.pad_1' (type TFOpLambda).\n    \n    Shape must be rank 1 but is rank 2 for '{{node yamnet_frames/tf.compat.v1.pad_1/Pad}} = Pad[T=DT_FLOAT, Tpaddings=DT_INT32](IteratorGetNext, yamnet_frames/tf.compat.v1.pad_1/Pad/paddings)' with input shapes: [32,16000], [1,2].\n    \n    Call arguments received by layer 'tf.compat.v1.pad_1' (type TFOpLambda):\n      • tensor=tf.Tensor(shape=(32, 16000), dtype=float32)\n      • paddings=[['0', 'tf.Tensor(shape=(), dtype=int32)']]\n      • mode='CONSTANT'\n      • name=None\n      • constant_values=0.0\n"
     ]
    }
   ],
   "source": [
    "yamnet_model.fit(X_train, y_train, epochs=10, batch_size=32, \n",
    "                 validation_split=0.2)"
   ]
  },
  {
   "cell_type": "code",
   "execution_count": null,
   "id": "f72d44d1",
   "metadata": {},
   "outputs": [],
   "source": []
  },
  {
   "cell_type": "code",
   "execution_count": null,
   "id": "511f3d17",
   "metadata": {},
   "outputs": [],
   "source": []
  },
  {
   "cell_type": "code",
   "execution_count": null,
   "id": "e1afc144",
   "metadata": {},
   "outputs": [],
   "source": []
  },
  {
   "cell_type": "code",
   "execution_count": null,
   "id": "a0279489",
   "metadata": {},
   "outputs": [],
   "source": []
  },
  {
   "cell_type": "code",
   "execution_count": null,
   "id": "444f0531",
   "metadata": {},
   "outputs": [],
   "source": []
  },
  {
   "cell_type": "code",
   "execution_count": 9,
   "id": "adece557",
   "metadata": {},
   "outputs": [
    {
     "name": "stdout",
     "output_type": "stream",
     "text": [
      "\u001b[1m19/19\u001b[0m \u001b[32m━━━━━━━━━━━━━━━━━━━━\u001b[0m\u001b[37m\u001b[0m \u001b[1m0s\u001b[0m 10ms/step - accuracy: 0.5777 - loss: 0.9212\n"
     ]
    }
   ],
   "source": [
    "loss, accuracy = model.evaluate(X_test, y_test)"
   ]
  },
  {
   "cell_type": "code",
   "execution_count": 10,
   "id": "11089cd8",
   "metadata": {},
   "outputs": [
    {
     "name": "stdout",
     "output_type": "stream",
     "text": [
      "\u001b[1m19/19\u001b[0m \u001b[32m━━━━━━━━━━━━━━━━━━━━\u001b[0m\u001b[37m\u001b[0m \u001b[1m1s\u001b[0m 25ms/step\n"
     ]
    }
   ],
   "source": [
    "y_pred_probs = model.predict(X_test)\n",
    "\n",
    "# Eğer sınıf sayısı 2'den fazlaysa:\n",
    "y_pred = np.argmax(y_pred_probs, axis=1)"
   ]
  },
  {
   "cell_type": "code",
   "execution_count": 11,
   "id": "49e39769",
   "metadata": {},
   "outputs": [
    {
     "name": "stdout",
     "output_type": "stream",
     "text": [
      "Accuracy: 0.5900\n"
     ]
    }
   ],
   "source": [
    "from sklearn.metrics import accuracy_score\n",
    "\n",
    "\n",
    "y_pred = np.argmax(y_pred_probs, axis=1)\n",
    "\n",
    "# Doğruluk hesapla\n",
    "accuracy = accuracy_score(y_test, y_pred)\n",
    "print(f'Accuracy: {accuracy:.4f}')\n"
   ]
  },
  {
   "cell_type": "code",
   "execution_count": 12,
   "id": "3f5ce816",
   "metadata": {},
   "outputs": [
    {
     "data": {
      "text/plain": [
       "<sklearn.metrics._plot.confusion_matrix.ConfusionMatrixDisplay at 0x1efc14428d0>"
      ]
     },
     "execution_count": 12,
     "metadata": {},
     "output_type": "execute_result"
    },
    {
     "data": {
      "image/png": "[encoded data removed]",
      "text/plain": [
       "<Figure size 640x480 with 2 Axes>"
      ]
     },
     "metadata": {},
     "output_type": "display_data"
    }
   ],
   "source": [
    "from sklearn.metrics import confusion_matrix, ConfusionMatrixDisplay\n",
    "\n",
    "cm = confusion_matrix(y_test, y_pred)\n",
    "disp = ConfusionMatrixDisplay(confusion_matrix=cm, \n",
    "                              display_labels=['Sick', 'Healthy', 'None'])\n",
    "disp.plot(cmap='Blues')"
   ]
  },
  {
   "cell_type": "code",
   "execution_count": 13,
   "id": "5f5bb9e4",
   "metadata": {},
   "outputs": [
    {
     "name": "stdout",
     "output_type": "stream",
     "text": [
      "              precision    recall  f1-score   support\n",
      "\n",
      "        sick       0.48      0.62      0.55       197\n",
      "     healthy       0.82      0.55      0.66       217\n",
      "        none       0.56      0.60      0.58       186\n",
      "\n",
      "    accuracy                           0.59       600\n",
      "   macro avg       0.62      0.59      0.59       600\n",
      "weighted avg       0.63      0.59      0.60       600\n",
      "\n"
     ]
    }
   ],
   "source": [
    "from sklearn.metrics import classification_report\n",
    "class_names = [\"sick\", \"healthy\", \"none\"]\n",
    "print(classification_report(y_test, y_pred, target_names=class_names))\n"
   ]
  }
 ],
 "metadata": {
  "kernelspec": {
   "display_name": ".venv",
   "language": "python",
   "name": "python3"
  },
  "language_info": {
   "codemirror_mode": {
    "name": "ipython",
    "version": 3
   },
   "file_extension": ".py",
   "mimetype": "text/x-python",
   "name": "python",
   "nbconvert_exporter": "python",
   "pygments_lexer": "ipython3",
   "version": "3.12.3"
  }
 },
 "nbformat": 4,
 "nbformat_minor": 5
}
