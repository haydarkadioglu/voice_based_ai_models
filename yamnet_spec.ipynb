{
 "cells": [
  {
   "cell_type": "code",
   "execution_count": null,
   "id": "924c7454",
   "metadata": {},
   "outputs": [],
   "source": [
    "import tensorflow as tf\n",
    "from tensorflow.keras import layers, models\n",
    "import tensorflow_hub as hub\n",
    "import numpy as np\n",
    "import librosa\n",
    "import os\n"
   ]
  },
  {
   "cell_type": "code",
   "execution_count": null,
   "id": "c32b08d5",
   "metadata": {},
   "outputs": [],
   "source": [
    "yamnet_model_handle = 'https://tfhub.dev/google/yamnet/1'\n",
    "yamnet_model = hub.load(yamnet_model_handle)"
   ]
  },
  {
   "cell_type": "code",
   "execution_count": null,
   "id": "c221b350",
   "metadata": {},
   "outputs": [],
   "source": [
    "def load_audio_from_directory(directory_path, num_files=None):\n",
    "    audio_files = []\n",
    "    for filename in os.listdir(directory_path)[:num_files]:\n",
    "        if filename.endswith('.wav'):\n",
    "            file_path = os.path.join(directory_path, filename)\n",
    "            waveform, sr = librosa.load(file_path, sr=16000)\n",
    "            audio_files.append(waveform)\n",
    "    return audio_files\n",
    "\n",
    "def extract_spectogram(waveform):\n",
    "    scores, embeddings, spectrogram = yamnet_model(waveform)\n",
    "    return embeddings\n",
    "\n",
    "def extract_all_spectogram(file_list):\n",
    "    all_embeddings = []\n",
    "    for waveform in file_list:\n",
    "        embeddings = extract_spectogram(waveform)\n",
    "        avg_embedding = tf.reduce_mean(embeddings, axis=0)  # ortalama al\n",
    "        all_embeddings.append(avg_embedding)\n",
    "    return tf.stack(all_embeddings)"
   ]
  }
 ],
 "metadata": {
  "language_info": {
   "name": "python"
  }
 },
 "nbformat": 4,
 "nbformat_minor": 5
}
